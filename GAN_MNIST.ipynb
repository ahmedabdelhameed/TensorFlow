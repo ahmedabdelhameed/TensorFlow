{
  "nbformat": 4,
  "nbformat_minor": 0,
  "metadata": {
    "colab": {
      "name": "GAN_MNIST.ipynb",
      "provenance": [],
      "collapsed_sections": [],
      "authorship_tag": "ABX9TyM6UF0PO1yGgLPghU6QdanO",
      "include_colab_link": true
    },
    "kernelspec": {
      "name": "python3",
      "display_name": "Python 3"
    },
    "accelerator": "GPU"
  },
  "cells": [
    {
      "cell_type": "markdown",
      "metadata": {
        "id": "view-in-github",
        "colab_type": "text"
      },
      "source": [
        "<a href=\"https://colab.research.google.com/github/ahmedabdelhameed/TensorFlow/blob/main/GAN_MNIST.ipynb\" target=\"_parent\"><img src=\"https://colab.research.google.com/assets/colab-badge.svg\" alt=\"Open In Colab\"/></a>"
      ]
    },
    {
      "cell_type": "markdown",
      "metadata": {
        "id": "X9fL89SV0S4O"
      },
      "source": [
        "**GAN implementation tested on MNIST dataset**"
      ]
    },
    {
      "cell_type": "code",
      "metadata": {
        "id": "0iPwZ6D6gAs7"
      },
      "source": [
        "import tensorflow as tf\r\n",
        "import numpy as np\r\n",
        "from tensorflow.keras import backend as K \r\n",
        "from tensorflow.keras.layers import Input, Dense, Conv2D, LeakyReLU, BatchNormalization, Dropout, Reshape, Conv2DTranspose, Flatten\r\n",
        "from tensorflow.keras.models import Model, load_model, Sequential\r\n",
        "from tensorflow.keras.datasets import mnist\r\n",
        "from tensorflow.keras.optimizers import Adam\r\n",
        "from tensorflow.keras.losses import mse, BinaryCrossentropy\r\n",
        "import matplotlib.pyplot as plt"
      ],
      "execution_count": 71,
      "outputs": []
    },
    {
      "cell_type": "code",
      "metadata": {
        "id": "pEvRgeWIzXiL"
      },
      "source": [
        "#Downloading the dataset\r\n",
        "(x_train_orig, y_train), (x_test_orig, y_test) = mnist.load_data()\r\n",
        "\r\n",
        "\r\n",
        "x_train = x_train_orig.reshape(x_train_orig.shape[0], x_train_orig.shape[1], x_train_orig.shape[2], 1).astype('float32')\r\n",
        "#x_test = np.reshape(x_test, newshape=(x_test.shape[0], x_train.shape[1], x_train.shape[2], 1))\r\n",
        "\r\n",
        "# x_train = x_train_orig.astype('float32') / 255.\r\n",
        "# x_test = x_test_orig.astype('float32') / 255.\r\n",
        "\r\n",
        "x_train = (x_train-127.5) / 127.5\r\n"
      ],
      "execution_count": 72,
      "outputs": []
    },
    {
      "cell_type": "code",
      "metadata": {
        "colab": {
          "base_uri": "https://localhost:8080/"
        },
        "id": "9p0KVVDFF27w",
        "outputId": "cdbb3e65-c656-4783-9a76-48c3c91a4c78"
      },
      "source": [
        "x_train.shape"
      ],
      "execution_count": 73,
      "outputs": [
        {
          "output_type": "execute_result",
          "data": {
            "text/plain": [
              "(60000, 28, 28, 1)"
            ]
          },
          "metadata": {
            "tags": []
          },
          "execution_count": 73
        }
      ]
    },
    {
      "cell_type": "code",
      "metadata": {
        "id": "yI6INOg1PFL2"
      },
      "source": [
        "img_size = 28\r\n",
        "num_channels = 1\r\n",
        "\r\n",
        "\r\n",
        "EPOCHS = 100\r\n",
        "noise_dim = 100\r\n",
        "num_examples_to_generate = 16\r\n",
        "\r\n",
        "# We will reuse this seed overtime (so it's easier)\r\n",
        "# to visualize progress in the animated GIF)\r\n",
        "seed = tf.random.normal([num_examples_to_generate, noise_dim])"
      ],
      "execution_count": 74,
      "outputs": []
    },
    {
      "cell_type": "code",
      "metadata": {
        "id": "DOjsPcY2ktcl"
      },
      "source": [
        "# Batch and shuffle the data\r\n",
        "BUFFER_SIZE = x_train.shape[0]\r\n",
        "BATCH_SIZE = 256\r\n",
        "train_dataset = tf.data.Dataset.from_tensor_slices(x_train).shuffle(BUFFER_SIZE).batch(BATCH_SIZE)\r\n",
        "\r\n",
        "# for element in train_dataset:\r\n",
        "#   print(element.shape)"
      ],
      "execution_count": 75,
      "outputs": []
    },
    {
      "cell_type": "code",
      "metadata": {
        "id": "XfRQXv6kPCb_"
      },
      "source": [
        "def define_discriminator():\r\n",
        "  model = Sequential()\r\n",
        "  model.add(Conv2D(64, (5, 5), strides=(2, 2), padding='same',\r\n",
        "                                     input_shape=[28, 28, 1]))\r\n",
        "  model.add(LeakyReLU())\r\n",
        "  model.add(Dropout(0.3))\r\n",
        "\r\n",
        "  model.add(Conv2D(128, (5, 5), strides=(2, 2), padding='same'))\r\n",
        "  model.add(LeakyReLU())\r\n",
        "  model.add(Dropout(0.3))\r\n",
        "\r\n",
        "  model.add(Flatten())\r\n",
        "  model.add(Dense(1))\r\n",
        "  return model"
      ],
      "execution_count": 76,
      "outputs": []
    },
    {
      "cell_type": "code",
      "metadata": {
        "id": "mT_azFTF0Fzi",
        "colab": {
          "base_uri": "https://localhost:8080/"
        },
        "outputId": "882921ad-0b3e-4551-f3b2-f5acdfd4a109"
      },
      "source": [
        "# define model\r\n",
        "discriminator = define_discriminator()\r\n",
        "# summarize the model\r\n",
        "discriminator.summary()"
      ],
      "execution_count": 77,
      "outputs": [
        {
          "output_type": "stream",
          "text": [
            "Model: \"sequential_8\"\n",
            "_________________________________________________________________\n",
            "Layer (type)                 Output Shape              Param #   \n",
            "=================================================================\n",
            "conv2d_8 (Conv2D)            (None, 14, 14, 64)        1664      \n",
            "_________________________________________________________________\n",
            "leaky_re_lu_20 (LeakyReLU)   (None, 14, 14, 64)        0         \n",
            "_________________________________________________________________\n",
            "dropout_8 (Dropout)          (None, 14, 14, 64)        0         \n",
            "_________________________________________________________________\n",
            "conv2d_9 (Conv2D)            (None, 7, 7, 128)         204928    \n",
            "_________________________________________________________________\n",
            "leaky_re_lu_21 (LeakyReLU)   (None, 7, 7, 128)         0         \n",
            "_________________________________________________________________\n",
            "dropout_9 (Dropout)          (None, 7, 7, 128)         0         \n",
            "_________________________________________________________________\n",
            "flatten_4 (Flatten)          (None, 6272)              0         \n",
            "_________________________________________________________________\n",
            "dense_8 (Dense)              (None, 1)                 6273      \n",
            "=================================================================\n",
            "Total params: 212,865\n",
            "Trainable params: 212,865\n",
            "Non-trainable params: 0\n",
            "_________________________________________________________________\n"
          ],
          "name": "stdout"
        }
      ]
    },
    {
      "cell_type": "code",
      "metadata": {
        "id": "fhzTeBc2Xtcj"
      },
      "source": [
        "# Building the generator model\r\n",
        "def make_generator_model():\r\n",
        "    model = Sequential()\r\n",
        "    model.add(Dense(7*7*256, use_bias=False, input_shape=(100,)))\r\n",
        "    model.add(BatchNormalization())\r\n",
        "    model.add(LeakyReLU())\r\n",
        "    model.add(Reshape((7, 7, 256)))\r\n",
        "    model.add(Conv2DTranspose(128, (5, 5), strides=(1, 1), padding='same', use_bias=False))\r\n",
        "    model.add(BatchNormalization())\r\n",
        "    model.add(LeakyReLU())\r\n",
        "    model.add(Conv2DTranspose(64, (5, 5), strides=(2, 2), padding='same', use_bias=False))\r\n",
        "    model.add(BatchNormalization())\r\n",
        "    model.add(LeakyReLU())\r\n",
        "    model.add(Conv2DTranspose(1, (5, 5), strides=(2, 2), padding='same', use_bias=False, activation='tanh'))\r\n",
        "    return model"
      ],
      "execution_count": 78,
      "outputs": []
    },
    {
      "cell_type": "code",
      "metadata": {
        "colab": {
          "base_uri": "https://localhost:8080/"
        },
        "id": "spfwZolcXyFZ",
        "outputId": "832c0e13-c095-466f-88e4-7733fedc03d6"
      },
      "source": [
        "generator = make_generator_model()\r\n",
        "generator.summary()"
      ],
      "execution_count": 79,
      "outputs": [
        {
          "output_type": "stream",
          "text": [
            "Model: \"sequential_9\"\n",
            "_________________________________________________________________\n",
            "Layer (type)                 Output Shape              Param #   \n",
            "=================================================================\n",
            "dense_9 (Dense)              (None, 12544)             1254400   \n",
            "_________________________________________________________________\n",
            "batch_normalization_12 (Batc (None, 12544)             50176     \n",
            "_________________________________________________________________\n",
            "leaky_re_lu_22 (LeakyReLU)   (None, 12544)             0         \n",
            "_________________________________________________________________\n",
            "reshape_4 (Reshape)          (None, 7, 7, 256)         0         \n",
            "_________________________________________________________________\n",
            "conv2d_transpose_12 (Conv2DT (None, 7, 7, 128)         819200    \n",
            "_________________________________________________________________\n",
            "batch_normalization_13 (Batc (None, 7, 7, 128)         512       \n",
            "_________________________________________________________________\n",
            "leaky_re_lu_23 (LeakyReLU)   (None, 7, 7, 128)         0         \n",
            "_________________________________________________________________\n",
            "conv2d_transpose_13 (Conv2DT (None, 14, 14, 64)        204800    \n",
            "_________________________________________________________________\n",
            "batch_normalization_14 (Batc (None, 14, 14, 64)        256       \n",
            "_________________________________________________________________\n",
            "leaky_re_lu_24 (LeakyReLU)   (None, 14, 14, 64)        0         \n",
            "_________________________________________________________________\n",
            "conv2d_transpose_14 (Conv2DT (None, 28, 28, 1)         1600      \n",
            "=================================================================\n",
            "Total params: 2,330,944\n",
            "Trainable params: 2,305,472\n",
            "Non-trainable params: 25,472\n",
            "_________________________________________________________________\n"
          ],
          "name": "stdout"
        }
      ]
    },
    {
      "cell_type": "code",
      "metadata": {
        "id": "jFWqlEZlXTMi"
      },
      "source": [
        "# This method returns a helper function to compute cross entropy loss\r\n",
        "cross_entropy = BinaryCrossentropy(from_logits=True) #This includes sigmoid"
      ],
      "execution_count": 80,
      "outputs": []
    },
    {
      "cell_type": "code",
      "metadata": {
        "id": "S-QM7bZRX-xM"
      },
      "source": [
        "#Define losses\r\n",
        "\r\n",
        "def discriminator_loss(real_output, fake_output):\r\n",
        "    real_loss = cross_entropy(tf.ones_like(real_output), real_output)\r\n",
        "    fake_loss = cross_entropy(tf.zeros_like(fake_output), fake_output)\r\n",
        "    return real_loss + fake_loss\r\n",
        "\r\n",
        "def generator_loss(fake_output):\r\n",
        "    return cross_entropy(tf.ones_like(fake_output), fake_output)"
      ],
      "execution_count": 81,
      "outputs": []
    },
    {
      "cell_type": "code",
      "metadata": {
        "id": "fsFDRug7YIXi"
      },
      "source": [
        "#Define optimizers\r\n",
        "discriminator_optimizer = Adam(1e-4)\r\n",
        "generator_optimizer = Adam(1e-4)"
      ],
      "execution_count": 82,
      "outputs": []
    },
    {
      "cell_type": "code",
      "metadata": {
        "id": "9ZbOfD3UbA58"
      },
      "source": [
        "@tf.function\r\n",
        "def train_step(images):\r\n",
        "  batch_size = tf.shape(images)[0]\r\n",
        "  #print(batch_size)\r\n",
        "  # random_noise = tf.random.normal(batch_size,100)  #fake noice images vectors of size 100\r\n",
        "  \r\n",
        "  #random_noise= tf.random.normal([BATCH_SIZE, noise_dim])\r\n",
        "  #print(random_noise.dtype)\r\n",
        "  #print(\"hi\")\r\n",
        "\r\n",
        "  with tf.GradientTape() as gen_tape, tf.GradientTape() as disc_tape:\r\n",
        "    random_noise= tf.random.normal([batch_size, noise_dim])\r\n",
        "    generated_images = generator(random_noise)\r\n",
        "    #generated_labels = tf.zeros((batch_size, 1))\r\n",
        "    real_output = discriminator(images)\r\n",
        "    fake_output = discriminator(generated_images)\r\n",
        "\r\n",
        "    gen_loss = generator_loss(fake_output)\r\n",
        "    disc_loss = discriminator_loss(real_output, fake_output)\r\n",
        "\r\n",
        "  gradients_of_generator = gen_tape.gradient(gen_loss, generator.trainable_variables)\r\n",
        "  gradients_of_discriminator = disc_tape.gradient(disc_loss, discriminator.trainable_variables)\r\n",
        "    \r\n",
        "  generator_optimizer.apply_gradients(zip(gradients_of_generator,generator.trainable_variables))\r\n",
        "  discriminator_optimizer.apply_gradients(zip(gradients_of_discriminator,discriminator.trainable_variables))\r\n",
        "\r\n",
        "  #print(\"generator loss:\", np.mean(gen_loss))\r\n",
        "  #print(\"discriminator loss: \", np.mean(disc_loss))"
      ],
      "execution_count": 83,
      "outputs": []
    },
    {
      "cell_type": "code",
      "metadata": {
        "id": "RNQC0gLAnVPK"
      },
      "source": [
        "# Training\r\n",
        "import time\r\n",
        "from IPython import display\r\n",
        "\r\n",
        "def train(dataset, epochs):\r\n",
        "  for epoch in range(epochs):\r\n",
        "    start = time.time()\r\n",
        "    for images in dataset:\r\n",
        "      train_step(images)\r\n",
        "\r\n",
        "    # Produce images for the GIF as you go\r\n",
        "    display.clear_output(wait=True)\r\n",
        "    generate_and_save_images(generator,\r\n",
        "                             epoch + 1,\r\n",
        "                             seed)\r\n",
        "\r\n",
        "    # Save the model every 15 epochs\r\n",
        "    # if (epoch + 1) % 15 == 0:\r\n",
        "    #   checkpoint.save(file_prefix = checkpoint_prefix)\r\n",
        "\r\n",
        "    print ('Time for epoch {} is {} sec'.format(epoch + 1, time.time()-start))\r\n",
        "\r\n",
        "  # Generate after the final epoch\r\n",
        "  display.clear_output(wait=True)\r\n",
        "  generate_and_save_images(generator,\r\n",
        "                           epochs,\r\n",
        "                           seed)"
      ],
      "execution_count": 84,
      "outputs": []
    },
    {
      "cell_type": "code",
      "metadata": {
        "id": "6Y4fEWDdp3jE"
      },
      "source": [
        "def generate_and_save_images(model, epoch, test_input):\r\n",
        "  # Notice `training` is set to False.\r\n",
        "  # This is so all layers run in inference mode (batchnorm).\r\n",
        "  predictions = model(test_input, training=False)\r\n",
        "\r\n",
        "  fig = plt.figure(figsize=(4, 4))\r\n",
        "\r\n",
        "  for i in range(predictions.shape[0]):\r\n",
        "      plt.subplot(4, 4, i+1)\r\n",
        "      plt.imshow(predictions[i, :, :, 0] * 127.5 + 127.5, cmap='gray')\r\n",
        "      plt.axis('off')\r\n",
        "\r\n",
        "  plt.savefig('image_at_epoch_{:04d}.png'.format(epoch))\r\n",
        "  plt.show()"
      ],
      "execution_count": 85,
      "outputs": []
    },
    {
      "cell_type": "code",
      "metadata": {
        "colab": {
          "base_uri": "https://localhost:8080/",
          "height": 248
        },
        "id": "jaK4oBHrlbp7",
        "outputId": "be81d747-8546-4de3-86e6-646f96f06fc9"
      },
      "source": [
        "train(train_dataset, EPOCHS)"
      ],
      "execution_count": 86,
      "outputs": [
        {
          "output_type": "display_data",
          "data": {
            "image/png": "[encoded data removed]",
            "text/plain": [
              "<Figure size 288x288 with 16 Axes>"
            ]
          },
          "metadata": {
            "tags": [],
            "needs_background": "light"
          }
        }
      ]
    },
    {
      "cell_type": "code",
      "metadata": {
        "id": "aHUipVzWTILX"
      },
      "source": [
        ""
      ],
      "execution_count": 86,
      "outputs": []
    }
  ]
}