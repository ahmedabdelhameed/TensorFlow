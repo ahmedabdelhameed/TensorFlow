{
  "nbformat": 4,
  "nbformat_minor": 0,
  "metadata": {
    "colab": {
      "name": "Autoencoder_MNIST.ipynb",
      "provenance": [],
      "collapsed_sections": [],
      "authorship_tag": "ABX9TyOyoZ+KyND+fctyUYEm4AQW",
      "include_colab_link": true
    },
    "kernelspec": {
      "name": "python3",
      "display_name": "Python 3"
    },
    "accelerator": "GPU"
  },
  "cells": [
    {
      "cell_type": "markdown",
      "metadata": {
        "id": "view-in-github",
        "colab_type": "text"
      },
      "source": [
        "<a href=\"https://colab.research.google.com/github/ahmedabdelhameed/TensorFlow/blob/main/VAE-Autoencoder_MNIST.ipynb\" target=\"_parent\"><img src=\"https://colab.research.google.com/assets/colab-badge.svg\" alt=\"Open In Colab\"/></a>"
      ]
    },
    {
      "cell_type": "code",
      "metadata": {
        "id": "0iPwZ6D6gAs7"
      },
      "source": [
        "import tensorflow as tf\r\n",
        "from tensorflow.keras.layers import Input, Dense, Lambda\r\n",
        "from tensorflow.keras.models import Model\r\n",
        "from tensorflow.keras.datasets import mnist\r\n",
        "import numpy as np"
      ],
      "execution_count": null,
      "outputs": []
    },
    {
      "cell_type": "code",
      "metadata": {
        "id": "VcoVW8aPkC5N"
      },
      "source": [
        "batch_size = 100\r\n",
        "original_dim = 28*28\r\n",
        "latent_dim = 2\r\n",
        "intermediate_dim = 256\r\n",
        "nb_epoch = 5\r\n",
        "epsilon_std = 1.0"
      ],
      "execution_count": null,
      "outputs": []
    },
    {
      "cell_type": "code",
      "metadata": {
        "id": "KCNeZJz3kYBf"
      },
      "source": [
        "#Defining sampling function\r\n",
        "def sampling(args):\r\n",
        "  z_mean, z_log_var = args\r\n",
        "  epsilon = tf.random.normal(shape=(batch_size, latent_dim), mean=0.)\r\n",
        "  return z_mean + tf.exp(z_log_var / 2) * epsilon\r\n",
        "\r\n",
        "#Defining the encoder using functional API\r\n",
        "x = Input(shape=(original_dim,), name=\"input\")\r\n",
        "h = Dense(intermediate_dim, activation='relu', name=\"encoding\")(x)\r\n",
        "z_mean = Dense(latent_dim, name=\"mean\")(h)\r\n",
        "z_log_var = Dense(latent_dim, name=\"log-variance\")(h)\r\n",
        "#z = Lambda(sampling, output_shape=(latent_dim,))([z_mean, z_log_var])\r\n",
        "z = Lambda(sampling)([z_mean, z_log_var])\r\n",
        "encoder = Model(x, [z_mean, z_log_var, z], name=\"encoder\")"
      ],
      "execution_count": null,
      "outputs": []
    },
    {
      "cell_type": "code",
      "metadata": {
        "id": "CxsPUWy3mo9U"
      },
      "source": [
        "#Defining the decoder using functional API\r\n",
        "input_decoder = Input(shape=(latent_dim,), name=\"decoder_input\")\r\n",
        "decoder_h = Dense(intermediate_dim, activation='relu', name=\"decoder_h\")(input_decoder)\r\n",
        "x_decoded = Dense(original_dim, activation='sigmoid', name=\"flat_decoded\")(decoder_h)\r\n",
        "decoder = Model(input_decoder, x_decoded, name=\"decoder\")"
      ],
      "execution_count": null,
      "outputs": []
    },
    {
      "cell_type": "code",
      "metadata": {
        "colab": {
          "base_uri": "https://localhost:8080/"
        },
        "id": "8ugi5352sbG7",
        "outputId": "1f5bca29-0275-420e-8865-7b51896a76a8"
      },
      "source": [
        "output_combined = decoder(encoder(x)[2])\r\n",
        "vae = Model(x, output_combined, name=\"VAE\")\r\n",
        "vae.summary()"
      ],
      "execution_count": null,
      "outputs": [
        {
          "output_type": "stream",
          "text": [
            "Model: \"VAE\"\n",
            "_________________________________________________________________\n",
            "Layer (type)                 Output Shape              Param #   \n",
            "=================================================================\n",
            "input (InputLayer)           [(None, 784)]             0         \n",
            "_________________________________________________________________\n",
            "encoder (Functional)         [(None, 2), (None, 2), (1 201988    \n",
            "_________________________________________________________________\n",
            "decoder (Functional)         (None, 784)               202256    \n",
            "=================================================================\n",
            "Total params: 404,244\n",
            "Trainable params: 404,244\n",
            "Non-trainable params: 0\n",
            "_________________________________________________________________\n"
          ],
          "name": "stdout"
        }
      ]
    },
    {
      "cell_type": "code",
      "metadata": {
        "id": "nAb-TmQgslMg"
      },
      "source": [
        "#Defining loss function\r\n",
        "def vae_loss(x, x_decoded_mean, z_log_var, z_mean, original_dim=original_dim):\r\n",
        "  xent_loss = original_dim * objectives.binary_crossentropy(x, x_decoded_mean)\r\n",
        "  kl_loss = - 0.5 * K.sum(1 + z_log_var - tf.square(z_mean) - tf.exp(z_log_var), axis=-1)\r\n",
        "  return xent_loss + kl_loss"
      ],
      "execution_count": null,
      "outputs": []
    },
    {
      "cell_type": "code",
      "metadata": {
        "id": "9VA2UVETtAWn"
      },
      "source": [
        ""
      ],
      "execution_count": null,
      "outputs": []
    }
  ]
}