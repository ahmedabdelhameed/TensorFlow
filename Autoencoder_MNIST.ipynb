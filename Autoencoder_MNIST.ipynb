{
  "nbformat": 4,
  "nbformat_minor": 0,
  "metadata": {
    "colab": {
      "name": "Autoencoder_MNIST.ipynb",
      "provenance": [],
      "collapsed_sections": [],
      "authorship_tag": "ABX9TyNtuL7am+tKVbuve72ttgV6",
      "include_colab_link": true
    },
    "kernelspec": {
      "name": "python3",
      "display_name": "Python 3"
    },
    "accelerator": "GPU"
  },
  "cells": [
    {
      "cell_type": "markdown",
      "metadata": {
        "id": "view-in-github",
        "colab_type": "text"
      },
      "source": [
        "<a href=\"https://colab.research.google.com/github/ahmedabdelhameed/TensorFlow/blob/main/Autoencoder_MNIST.ipynb\" target=\"_parent\"><img src=\"https://colab.research.google.com/assets/colab-badge.svg\" alt=\"Open In Colab\"/></a>"
      ]
    },
    {
      "cell_type": "code",
      "metadata": {
        "id": "0iPwZ6D6gAs7"
      },
      "source": [
        "import tensorflow as tf\r\n",
        "from tensorflow.keras.layers import Input, Dense, Lambda\r\n",
        "from tensorflow.keras.models import Model\r\n",
        "from tensorflow.keras.datasets import mnist\r\n",
        "import numpy as np"
      ],
      "execution_count": 13,
      "outputs": []
    },
    {
      "cell_type": "code",
      "metadata": {
        "id": "VcoVW8aPkC5N"
      },
      "source": [
        "batch_size = 100\r\n",
        "original_dim = 28*28\r\n",
        "latent_dim = 2\r\n",
        "intermediate_dim = 256\r\n",
        "nb_epoch = 5\r\n",
        "epsilon_std = 1.0"
      ],
      "execution_count": 14,
      "outputs": []
    },
    {
      "cell_type": "code",
      "metadata": {
        "id": "KCNeZJz3kYBf"
      },
      "source": [
        "#Defining sampling function\r\n",
        "def sampling(args):\r\n",
        "  z_mean, z_log_var = args\r\n",
        "  epsilon = tf.random.normal(shape=(batch_size, latent_dim), mean=0.)\r\n",
        "  return z_mean + tf.exp(z_log_var / 2) * epsilon\r\n",
        "\r\n",
        "#Defining the model using functional API\r\n",
        "x = Input(shape=(original_dim,), name=\"input\")\r\n",
        "h = Dense(intermediate_dim, activation='relu', name=\"encoding\")(x)\r\n",
        "z_mean = Dense(latent_dim, name=\"mean\")(h)\r\n",
        "z_log_var = Dense(latent_dim, name=\"log-variance\")(h)\r\n",
        "z = Lambda(sampling, output_shape=(latent_dim,))([z_mean, z_log_var])\r\n",
        "encoder = Model(x, [z_mean, z_log_var, z], name=\"encoder\")"
      ],
      "execution_count": 17,
      "outputs": []
    },
    {
      "cell_type": "code",
      "metadata": {
        "id": "CxsPUWy3mo9U"
      },
      "source": [
        ""
      ],
      "execution_count": null,
      "outputs": []
    }
  ]
}