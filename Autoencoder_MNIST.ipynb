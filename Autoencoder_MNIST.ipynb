{
  "nbformat": 4,
  "nbformat_minor": 0,
  "metadata": {
    "colab": {
      "name": "Autoencoder_MNIST.ipynb",
      "provenance": [],
      "collapsed_sections": [],
      "authorship_tag": "ABX9TyPKNSKRCM3QiB4C3BduPlYV",
      "include_colab_link": true
    },
    "kernelspec": {
      "name": "python3",
      "display_name": "Python 3"
    }
  },
  "cells": [
    {
      "cell_type": "markdown",
      "metadata": {
        "id": "view-in-github",
        "colab_type": "text"
      },
      "source": [
        "<a href=\"https://colab.research.google.com/github/ahmedabdelhameed/Tensorflow/blob/main/Autoencoder_MNIST.ipynb\" target=\"_parent\"><img src=\"https://colab.research.google.com/assets/colab-badge.svg\" alt=\"Open In Colab\"/></a>"
      ]
    },
    {
      "cell_type": "code",
      "metadata": {
        "id": "0iPwZ6D6gAs7"
      },
      "source": [
        "import tensorflow\r\n",
        "from keras.layers import Input, Dense, Lambda\r\n",
        "from keras.models import Model\r\n",
        "from keras import backend as K\r\n",
        "from keras import objectives\r\n",
        "from keras.datasets import mnist\r\n",
        "import numpy as np"
      ],
      "execution_count": null,
      "outputs": []
    }
  ]
}